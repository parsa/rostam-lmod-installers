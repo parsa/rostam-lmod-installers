{
 "cells": [
  {
   "cell_type": "markdown",
   "source": [
    "```\n",
    "% docker run -dt --rm --name=elsporto --hostname=elsporto --volume=/Users/parsa/Repositories/rostam-lmod-installers:/root/workspace --platform=linux/amd64 --privileged --workdir=/root/workspace centos:8\n",
    "yum install -y gcc-c++ make wget curl python3-pip tcl-devel procps-ng #tcl-devel-static\n",
    "pip3 install jupyterlab ipykernel\n",
    "```"
   ],
   "metadata": {}
  },
  {
   "cell_type": "code",
   "execution_count": null,
   "source": [
    "!wget https://sourceforge.net/projects/modules/files/Modules/modules-4.8.0/modules-4.8.0.tar.gz"
   ],
   "outputs": [],
   "metadata": {}
  },
  {
   "cell_type": "code",
   "execution_count": null,
   "source": [
    "!tar xf modules-4.8.0.tar.gz"
   ],
   "outputs": [],
   "metadata": {}
  },
  {
   "cell_type": "code",
   "execution_count": null,
   "source": [
    "!cd modules-4.8.0/ && ./configure"
   ],
   "outputs": [],
   "metadata": {}
  },
  {
   "cell_type": "code",
   "execution_count": null,
   "source": [
    "!cd modules-4.8.0/ && make -s -j4 install"
   ],
   "outputs": [],
   "metadata": {}
  },
  {
   "cell_type": "code",
   "execution_count": 81,
   "source": [
    "import urllib\n",
    "import json\n",
    "import os\n",
    "import tarfile"
   ],
   "outputs": [],
   "metadata": {}
  },
  {
   "cell_type": "code",
   "execution_count": 14,
   "source": [
    "url = \"https://api.github.com/repos/git/git/tags\"\n",
    "# Get Git release info from GitHub as a JSON object\n",
    "with urllib.request.urlopen(url) as http_response:\n",
    "    assert http_response.status == 200\n",
    "    git_release_info = http_response.read().decode(\"utf-8\")"
   ],
   "outputs": [],
   "metadata": {}
  },
  {
   "cell_type": "code",
   "execution_count": 15,
   "source": [
    "# Load HTTP response as a JSON object\n",
    "tags_info = json.loads(git_release_info)\n",
    "# Remove tags that include \"-rc\"\n",
    "tags_info = [tag for tag in tags_info if \"-rc\" not in tag[\"name\"]]\n"
   ],
   "outputs": [],
   "metadata": {}
  },
  {
   "cell_type": "code",
   "execution_count": 136,
   "source": [
    "# Get the latest version of Git\n",
    "# Lambda that removes the \"v\" prefix and converts version string to a\n",
    "# list of integers\n",
    "def get_version(v):\n",
    "    return [int(x) for x in v['name'].lstrip(\"v\").split(\".\")]\n",
    "latest_tag = max(tags_info, key=get_version)\n",
    "archive_name = 'git-' + latest_tag[\"name\"] + '.tar.gz'\n",
    "# Get the download URL for the latest Git tarball\n",
    "download_url = latest_tag[\"tarball_url\"]\n",
    "print(archive_name, download_url)"
   ],
   "outputs": [
    {
     "output_type": "stream",
     "name": "stdout",
     "text": [
      "git-v2.32.0.tar.gz https://api.github.com/repos/git/git/tarball/refs/tags/v2.32.0\n"
     ]
    }
   ],
   "metadata": {}
  },
  {
   "cell_type": "code",
   "execution_count": 143,
   "source": [
    "urllib.request.urlretrieve(download_url, archive_name)"
   ],
   "outputs": [
    {
     "output_type": "execute_result",
     "data": {
      "text/plain": [
       "('git-v2.32.0.tar.gz', <http.client.HTTPMessage at 0x11834acd0>)"
      ]
     },
     "metadata": {},
     "execution_count": 143
    }
   ],
   "metadata": {}
  },
  {
   "cell_type": "code",
   "execution_count": 145,
   "source": [
    "assert tarfile.is_tarfile(archive_name)"
   ],
   "outputs": [],
   "metadata": {}
  },
  {
   "cell_type": "code",
   "execution_count": 165,
   "source": [
    "with tarfile.open(archive_name, 'r') as tar:\n",
    "    os.makedirs('src', exist_ok=True)\n",
    "    # extract all files but strip the first level of the their path\n",
    "    for f in tar.getmembers():\n",
    "        # Remove the first directory in f.name\n",
    "        f_parts = f.path.split(os.sep)[1:]\n",
    "        if f_parts and not f_parts[-1].startswith('.') and not f_parts[-1].endswith('.md'):\n",
    "            f.path = os.path.join('src', os.sep.join(f_parts))\n",
    "            #print(f.path)\n",
    "            tar.extract(f)"
   ],
   "outputs": [],
   "metadata": {}
  },
  {
   "cell_type": "code",
   "execution_count": 174,
   "source": [
    "!cd src && autoconf"
   ],
   "outputs": [
    {
     "output_type": "stream",
     "name": "stdout",
     "text": [
      "zsh:1: command not found: autoconf\n"
     ]
    }
   ],
   "metadata": {}
  }
 ],
 "metadata": {
  "orig_nbformat": 4,
  "language_info": {
   "name": "python",
   "version": "3.6.8",
   "mimetype": "text/x-python",
   "codemirror_mode": {
    "name": "ipython",
    "version": 3
   },
   "pygments_lexer": "ipython3",
   "nbconvert_exporter": "python",
   "file_extension": ".py"
  },
  "kernelspec": {
   "name": "python3",
   "display_name": "Python 3.6.8 64-bit"
  },
  "interpreter": {
   "hash": "916dbcbb3f70747c44a77c7bcd40155683ae19c65e1c03b4aa3499c5328201f1"
  }
 },
 "nbformat": 4,
 "nbformat_minor": 2
}